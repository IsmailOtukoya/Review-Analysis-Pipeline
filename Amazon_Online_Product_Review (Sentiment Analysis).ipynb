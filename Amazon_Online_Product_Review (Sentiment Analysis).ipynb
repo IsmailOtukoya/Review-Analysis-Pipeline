{
 "cells": [
  {
   "cell_type": "code",
   "execution_count": null,
   "id": "b78fd848",
   "metadata": {},
   "outputs": [],
   "source": [
    "import csv\n",
    "import random\n",
    "\n",
    "# Function to import data from a CSV file\n",
    "def import_data_from_csv(file_path, review_column):\n",
    "    dataset = []\n",
    "    with open(file_path, 'r') as file:\n",
    "        reader = csv.reader(file)\n",
    "        for row in reader:\n",
    "            review = row[review_column]  # Use the specified column index for reviews\n",
    "            dataset.append(review)\n",
    "    return dataset\n",
    "\n",
    "# Function to randomly select a subset of reviews and manually label them\n",
    "def label_subset_reviews(dataset, subset_size):\n",
    "    labeled_subset = []\n",
    "    \n",
    "    # Shuffle the dataset\n",
    "    random.shuffle(dataset)\n",
    "    \n",
    "    # Select a subset of reviews\n",
    "    subset = dataset[:subset_size]\n",
    "    \n",
    "    for review in subset:\n",
    "        # Manually input the sentiment label for each review\n",
    "        sentiment = input(f\"Enter sentiment label (positive, negative, or neutral) for review '{review}': \")\n",
    "        \n",
    "        # Create a labeled data entry with the review and sentiment label\n",
    "        labeled_entry = (review, sentiment)\n",
    "        \n",
    "        # Append the labeled entry to the labeled subset\n",
    "        labeled_subset.append(labeled_entry)\n",
    "    \n",
    "    return labeled_subset\n",
    "\n",
    "# Example usage\n",
    "file_path = r\"C:\\Users\\ISMAIL\\OneDrive\\Documents\\data science projects\\cleaned_dataset_AOPR.csv\"  # Path to your CSV file\n",
    "review_column = 6  # Index of the column containing the reviews (assuming the first column is 0)\n",
    "subset_size = 100  # Number of reviews to select for labeling\n",
    "\n",
    "# Import the data from the CSV file\n",
    "dataset = import_data_from_csv(file_path, review_column)\n",
    "\n",
    "# Label a subset of reviews\n",
    "labeled_subset = label_subset_reviews(dataset, subset_size)\n",
    "\n",
    "# Print the labeled subset\n",
    "for entry in labeled_subset:\n",
    "    review, sentiment = entry\n",
    "    print(f\"Review: {review}\\tSentiment: {sentiment}\")\n"
   ]
  },
  {
   "cell_type": "code",
   "execution_count": null,
   "id": "23fbb00d",
   "metadata": {},
   "outputs": [],
   "source": []
  }
 ],
 "metadata": {
  "kernelspec": {
   "display_name": "Python 3 (ipykernel)",
   "language": "python",
   "name": "python3"
  },
  "language_info": {
   "codemirror_mode": {
    "name": "ipython",
    "version": 3
   },
   "file_extension": ".py",
   "mimetype": "text/x-python",
   "name": "python",
   "nbconvert_exporter": "python",
   "pygments_lexer": "ipython3",
   "version": "3.10.9"
  }
 },
 "nbformat": 4,
 "nbformat_minor": 5
}
